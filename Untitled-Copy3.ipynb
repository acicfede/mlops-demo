{
 "cells": [
  {
   "cell_type": "code",
   "execution_count": null,
   "id": "680b9c6b-68fd-4a3e-9971-763fa362eaeb",
   "metadata": {},
   "outputs": [],
   "source": [
    "!pip install sdg-hub"
   ]
  },
  {
   "cell_type": "code",
   "execution_count": null,
   "id": "84f11fa4-d007-45dd-8067-b53f1f70e07f",
   "metadata": {},
   "outputs": [],
   "source": [
    "!git clone https://github.com/Red-Hat-AI-Innovation-Team/sdg_hub.git"
   ]
  },
  {
   "cell_type": "code",
   "execution_count": null,
   "id": "be817219-2e9b-4d27-b0eb-022116f4442b",
   "metadata": {},
   "outputs": [],
   "source": [
    "!uv pip install sdg_hub[dev]\n"
   ]
  },
  {
   "cell_type": "code",
   "execution_count": null,
   "id": "52b5f7e7-51c5-48b2-8d1a-2d1f797515e4",
   "metadata": {},
   "outputs": [],
   "source": [
    "! uv pip install sdg-hub[vllm]\n",
    "\n",
    "! uv pip install sdg-hub[examples]\n"
   ]
  },
  {
   "cell_type": "code",
   "execution_count": null,
   "id": "a9679c33-dce2-4957-8904-c243e835bef5",
   "metadata": {},
   "outputs": [],
   "source": [
    "from sdg_hub import FlowRegistry, Flow\n",
    "\n",
    "# Auto-discover all available flows (no setup needed!)\n",
    "FlowRegistry.discover_flows()\n",
    "\n",
    "# List available flows\n",
    "flows = FlowRegistry.list_flows()\n",
    "print(f\"Available flows: {flows}\")\n",
    "\n"
   ]
  },
  {
   "cell_type": "code",
   "execution_count": null,
   "id": "c4d7f441-a3c2-47b7-ad82-7f9fdcca1441",
   "metadata": {},
   "outputs": [],
   "source": [
    "# Search for specific types\n",
    "qa_flows = FlowRegistry.search_flows(tag=\"question-generation\")\n",
    "print(f\"QA flows: {qa_flows}\")\n"
   ]
  },
  {
   "cell_type": "code",
   "execution_count": null,
   "id": "2944a795-3381-4774-ba11-a7e89142515c",
   "metadata": {},
   "outputs": [],
   "source": [
    "flow_id = \"small-rock-799\" \n",
    "\n",
    "# Use ID to reference the flow\n",
    "flow_path = FlowRegistry.get_flow_path(flow_id)\n",
    "flow = Flow.from_yaml(flow_path)\n",
    "\n",
    "\n"
   ]
  },
  {
   "cell_type": "code",
   "execution_count": null,
   "id": "5e61ee17-c7bc-455e-9ca4-8132ee9b3acb",
   "metadata": {},
   "outputs": [],
   "source": [
    "default_model = flow.get_default_model()\n",
    "recommendations = flow.get_model_recommendations()\n",
    "\n",
    "print(f\"default_model: {default_model}\")\n",
    "print(f\"recommendations: {recommendations}\")"
   ]
  },
  {
   "cell_type": "code",
   "execution_count": null,
   "id": "a2c37a85-e675-460a-8ef3-992f6422c53e",
   "metadata": {},
   "outputs": [],
   "source": [
    "#flow.set_model_config(\n",
    "#    model=f\"RedHatAI/gemma-3-27b-it-quantized.w8a8\",\n",
    "#    api_base=\"https://gemma-3-27b-it-quantizedw8a8-test-vscode.apps.privateailab.acic.accenture\",\n",
    "#    api_key=\"EMPTY\",\n",
    "#    provider=\"vllm\",\n",
    "#    temperature=0.0,\n",
    "#    max_completion_tokens=512,\n",
    "#    async_mode=False\n",
    "#)\n",
    "flow.set_model_config(\n",
    "    model=\"hosted_vllm/gemma-3-27b-it-quantizedw8a8\",\n",
    "    api_base=\"https://gemma-3-27b-it-quantizedw8a8-test-vscode.apps.privateailab.acic.accenture/v1\",\n",
    "    provider=\"vllm\",\n",
    "    api_key=\"empty\",\n",
    "    n=1,\n",
    "    async_mode=False,\n",
    ")\n",
    "#flow.set_model_config(model=\"hosted_vllm/qwen3-8b\", api_base=\"http://localhost:8101/v1\", api_key=\"empty\")"
   ]
  },
  {
   "cell_type": "code",
   "execution_count": null,
   "id": "b21e0488-91fc-4084-9ddf-72f2b7d333fa",
   "metadata": {},
   "outputs": [],
   "source": [
    "schema_dataset = flow.get_dataset_schema()  # Get empty dataset with correct schema\n",
    "print(f\"Required columns: {schema_dataset.column_names}\")\n",
    "print(f\"Schema: {schema_dataset.features}\")\n"
   ]
  },
  {
   "cell_type": "code",
   "execution_count": null,
   "id": "03dcbaff-75fb-4422-8b4f-3cdfa1caaf58",
   "metadata": {},
   "outputs": [],
   "source": [
    "doc = \"\"\"L'Impero Romano cadde formalmente nel 476 d.C., segnando la fine della dominazione romana in Occidente. Questo evento è tradizionalmente associato alla deposizione dell'ultimo imperatore occidentale, Romolo Augustolo, da parte del generale barbaro Odoacre. Tuttavia, la caduta dell'Impero Romano non fu il risultato di un singolo evento, ma piuttosto di un lungo periodo di declino politico, economico e militare. Nei decenni precedenti, l'impero era stato destabilizzato da guerre civili, pressioni economiche, corruzione interna e frequenti invasioni da parte di popolazioni barbariche come Visigoti, Vandali e Ostrogoti.\n",
    "\n",
    "La deposizione di Romolo Augustolo rappresentò simbolicamente il fallimento dell'autorità centrale romana in Occidente. Sebbene Romolo fosse giovane e privo di potere reale, la sua rimozione dal trono segnò la fine della linea degli imperatori occidentali e l'inizio di un nuovo periodo storico, conosciuto come Alto Medioevo, caratterizzato dalla frammentazione politica e dalla formazione di regni barbarici sul territorio romano.\n",
    "\n",
    "Dopo il 476 d.C., molte delle istituzioni romane sopravvissero in forme modificate, ma l'unità e il controllo centralizzato dell'impero furono perduti. L'Impero d'Oriente, con capitale Costantinopoli, continuò a esistere per quasi un millennio, mantenendo la tradizione amministrativa e culturale romana, ma senza più influenzare direttamente i territori occidentali.\n",
    "\n",
    "Gli storici vedono nella caduta dell'Impero Romano d'Occidente un esempio di come fattori interni ed esterni possano combinarsi per portare alla dissoluzione di un grande impero. La figura di Romolo Augustolo, sebbene minuta nella storia personale, assume un ruolo simbolico nella narrazione storica, incarnando la fine di un'epoca e il passaggio a un mondo nuovo, dominato da regni germanici e strutture politiche decentralizzate.\"\"\"\n",
    "\n",
    "# Passi il documento al flow di question generation\n",
    "dataset = schema_dataset.add_item({\n",
    "    \"document\": doc,\n",
    "    \"domain\": \"Storia\"\n",
    "})\n",
    "\n",
    "\n",
    "\n"
   ]
  },
  {
   "cell_type": "code",
   "execution_count": null,
   "id": "d5d84a0a-c559-4449-b556-eeda599b6b4a",
   "metadata": {
    "scrolled": true
   },
   "outputs": [],
   "source": [
    "# Quick Testing with Dry Run\n",
    "dry_result = flow.dry_run(dataset, sample_size=1)\n",
    "\n",
    "print(f\"Dry run completed in {dry_result['execution_time_seconds']:.2f}s\")\n",
    "print(f\"Output columns: {dry_result['final_dataset']['columns']}\")\n"
   ]
  },
  {
   "cell_type": "code",
   "execution_count": null,
   "id": "f899b1a2-1e37-427f-8a60-0152fe1effbe",
   "metadata": {},
   "outputs": [],
   "source": [
    "questions = dry_result['question']\n",
    "print(f\"questions: {questions}\")\n"
   ]
  },
  {
   "cell_type": "code",
   "execution_count": null,
   "id": "0c0feece-68fd-47a5-a338-7dcf0beb665a",
   "metadata": {},
   "outputs": [],
   "source": [
    "# Generate high-quality QA pairs\n",
    "result = flow.generate(dataset)\n",
    "\n",
    "# Access generated content\n",
    "questions = result['question']\n",
    "answers = result['response']\n",
    "faithfulness_judgment = result['faithfulness_judgment']\n",
    "relevancy_score = result['relevancy_score']\n",
    "get_knowledge_generation_content = result['get_knowledge_generation_content']"
   ]
  },
  {
   "cell_type": "code",
   "execution_count": null,
   "id": "5cd9fe0f-9271-4c54-9988-09c576e59369",
   "metadata": {},
   "outputs": [],
   "source": [
    "#correttezza (Faithfulness) e la pertinenza (Relevancy) delle risposte"
   ]
  },
  {
   "cell_type": "code",
   "execution_count": null,
   "id": "57078cfe-dc78-4b3b-a857-bac96a621b0e",
   "metadata": {
    "scrolled": true
   },
   "outputs": [],
   "source": [
    "print(f\"questions: {questions,answers}\")\n",
    "print(f\"faithfulness_scores: {faithfulness_judgment}\")\n",
    "print(f\"relevancy_score: {relevancy_score}\") \n",
    "print(f\"get_knowledge_generation_content: {get_knowledge_generation_content}\")"
   ]
  },
  {
   "cell_type": "code",
   "execution_count": null,
   "id": "e6fb75fa-1b71-463c-a739-4a7043c222e5",
   "metadata": {},
   "outputs": [],
   "source": [
    "%pip install sdg-hub[examples]\n",
    "#%pip install ai_tools"
   ]
  },
  {
   "cell_type": "code",
   "execution_count": null,
   "id": "995da287-b9f0-4f09-879e-06e12f8b570a",
   "metadata": {},
   "outputs": [],
   "source": []
  },
  {
   "cell_type": "code",
   "execution_count": null,
   "id": "badfd940-438d-428a-8210-3dfd0dfa92d5",
   "metadata": {},
   "outputs": [],
   "source": []
  },
  {
   "cell_type": "code",
   "execution_count": null,
   "id": "f0583ceb-7f77-4079-8cc7-ab7ad74f550a",
   "metadata": {},
   "outputs": [],
   "source": []
  },
  {
   "cell_type": "code",
   "execution_count": null,
   "id": "ae2fe284-0b34-4050-b7f0-c574e1a4598e",
   "metadata": {},
   "outputs": [],
   "source": []
  }
 ],
 "metadata": {
  "kernelspec": {
   "display_name": "Python 3.11",
   "language": "python",
   "name": "python3"
  },
  "language_info": {
   "codemirror_mode": {
    "name": "ipython",
    "version": 3
   },
   "file_extension": ".py",
   "mimetype": "text/x-python",
   "name": "python",
   "nbconvert_exporter": "python",
   "pygments_lexer": "ipython3",
   "version": "3.11.11"
  }
 },
 "nbformat": 4,
 "nbformat_minor": 5
}
